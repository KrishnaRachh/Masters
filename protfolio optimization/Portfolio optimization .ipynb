{
 "cells": [
  {
   "cell_type": "code",
   "execution_count": 1,
   "id": "5dff2745-3034-427f-81cb-e754b145fb16",
   "metadata": {},
   "outputs": [],
   "source": [
    "import pandas as pd\n",
    "import numpy as np\n",
    "import matplotlib.pyplot as plt\n",
    "%matplotlib inline\n",
    "from pandas_datareader import data as wb"
   ]
  },
  {
   "cell_type": "code",
   "execution_count": 2,
   "id": "9ff4723a-d21a-4396-a9a1-79db98943a1c",
   "metadata": {},
   "outputs": [],
   "source": [
    "data=pd.DataFrame()\n",
    "stocks = ['RELIANCE.NS', 'AMZN', 'AAPL', 'INFY.NS', 'TSLA']\n",
    "for stock in stocks:\n",
    "    data[stock] = wb.DataReader(stock, data_source = 'yahoo', start = '2015-1-1')['Adj Close']"
   ]
  },
  {
   "cell_type": "code",
   "execution_count": 3,
   "id": "76c13348-d7a6-48de-8b12-4ab905e2fada",
   "metadata": {},
   "outputs": [
    {
     "data": {
      "text/html": [
       "<div>\n",
       "<style scoped>\n",
       "    .dataframe tbody tr th:only-of-type {\n",
       "        vertical-align: middle;\n",
       "    }\n",
       "\n",
       "    .dataframe tbody tr th {\n",
       "        vertical-align: top;\n",
       "    }\n",
       "\n",
       "    .dataframe thead th {\n",
       "        text-align: right;\n",
       "    }\n",
       "</style>\n",
       "<table border=\"1\" class=\"dataframe\">\n",
       "  <thead>\n",
       "    <tr style=\"text-align: right;\">\n",
       "      <th></th>\n",
       "      <th>RELIANCE.NS</th>\n",
       "      <th>AMZN</th>\n",
       "      <th>AAPL</th>\n",
       "      <th>INFY.NS</th>\n",
       "      <th>TSLA</th>\n",
       "    </tr>\n",
       "    <tr>\n",
       "      <th>Date</th>\n",
       "      <th></th>\n",
       "      <th></th>\n",
       "      <th></th>\n",
       "      <th></th>\n",
       "      <th></th>\n",
       "    </tr>\n",
       "  </thead>\n",
       "  <tbody>\n",
       "    <tr>\n",
       "      <th>2015-01-02</th>\n",
       "      <td>418.137756</td>\n",
       "      <td>308.519989</td>\n",
       "      <td>24.745996</td>\n",
       "      <td>420.187622</td>\n",
       "      <td>43.862000</td>\n",
       "    </tr>\n",
       "    <tr>\n",
       "      <th>2015-01-05</th>\n",
       "      <td>413.557587</td>\n",
       "      <td>302.190002</td>\n",
       "      <td>24.048862</td>\n",
       "      <td>416.576813</td>\n",
       "      <td>42.018002</td>\n",
       "    </tr>\n",
       "    <tr>\n",
       "      <th>2015-01-06</th>\n",
       "      <td>394.788452</td>\n",
       "      <td>295.290009</td>\n",
       "      <td>24.051126</td>\n",
       "      <td>407.873322</td>\n",
       "      <td>42.256001</td>\n",
       "    </tr>\n",
       "    <tr>\n",
       "      <th>2015-01-07</th>\n",
       "      <td>403.382172</td>\n",
       "      <td>298.420013</td>\n",
       "      <td>24.388371</td>\n",
       "      <td>409.824860</td>\n",
       "      <td>42.189999</td>\n",
       "    </tr>\n",
       "    <tr>\n",
       "      <th>2015-01-08</th>\n",
       "      <td>397.597961</td>\n",
       "      <td>300.459991</td>\n",
       "      <td>25.325432</td>\n",
       "      <td>411.891083</td>\n",
       "      <td>42.124001</td>\n",
       "    </tr>\n",
       "    <tr>\n",
       "      <th>...</th>\n",
       "      <td>...</td>\n",
       "      <td>...</td>\n",
       "      <td>...</td>\n",
       "      <td>...</td>\n",
       "      <td>...</td>\n",
       "    </tr>\n",
       "    <tr>\n",
       "      <th>2021-11-22</th>\n",
       "      <td>2363.750000</td>\n",
       "      <td>3572.570068</td>\n",
       "      <td>161.020004</td>\n",
       "      <td>1759.400024</td>\n",
       "      <td>1156.869995</td>\n",
       "    </tr>\n",
       "    <tr>\n",
       "      <th>2021-11-23</th>\n",
       "      <td>2385.850098</td>\n",
       "      <td>3580.040039</td>\n",
       "      <td>161.410004</td>\n",
       "      <td>1736.900024</td>\n",
       "      <td>1109.030029</td>\n",
       "    </tr>\n",
       "    <tr>\n",
       "      <th>2021-11-24</th>\n",
       "      <td>2351.399902</td>\n",
       "      <td>3580.409912</td>\n",
       "      <td>161.940002</td>\n",
       "      <td>1696.000000</td>\n",
       "      <td>1116.000000</td>\n",
       "    </tr>\n",
       "    <tr>\n",
       "      <th>2021-11-26</th>\n",
       "      <td>2412.600098</td>\n",
       "      <td>3504.560059</td>\n",
       "      <td>156.809998</td>\n",
       "      <td>1691.650024</td>\n",
       "      <td>1081.920044</td>\n",
       "    </tr>\n",
       "    <tr>\n",
       "      <th>2021-11-29</th>\n",
       "      <td>2441.500000</td>\n",
       "      <td>3561.570068</td>\n",
       "      <td>160.240005</td>\n",
       "      <td>1696.349976</td>\n",
       "      <td>1136.989990</td>\n",
       "    </tr>\n",
       "  </tbody>\n",
       "</table>\n",
       "<p>1653 rows × 5 columns</p>\n",
       "</div>"
      ],
      "text/plain": [
       "            RELIANCE.NS         AMZN        AAPL      INFY.NS         TSLA\n",
       "Date                                                                      \n",
       "2015-01-02   418.137756   308.519989   24.745996   420.187622    43.862000\n",
       "2015-01-05   413.557587   302.190002   24.048862   416.576813    42.018002\n",
       "2015-01-06   394.788452   295.290009   24.051126   407.873322    42.256001\n",
       "2015-01-07   403.382172   298.420013   24.388371   409.824860    42.189999\n",
       "2015-01-08   397.597961   300.459991   25.325432   411.891083    42.124001\n",
       "...                 ...          ...         ...          ...          ...\n",
       "2021-11-22  2363.750000  3572.570068  161.020004  1759.400024  1156.869995\n",
       "2021-11-23  2385.850098  3580.040039  161.410004  1736.900024  1109.030029\n",
       "2021-11-24  2351.399902  3580.409912  161.940002  1696.000000  1116.000000\n",
       "2021-11-26  2412.600098  3504.560059  156.809998  1691.650024  1081.920044\n",
       "2021-11-29  2441.500000  3561.570068  160.240005  1696.349976  1136.989990\n",
       "\n",
       "[1653 rows x 5 columns]"
      ]
     },
     "execution_count": 3,
     "metadata": {},
     "output_type": "execute_result"
    }
   ],
   "source": [
    "data.dropna(inplace=True)\n",
    "data"
   ]
  },
  {
   "cell_type": "code",
   "execution_count": 4,
   "id": "69eed142-b42a-4d29-bf1a-49ed1b521e43",
   "metadata": {},
   "outputs": [
    {
     "data": {
      "image/png": "[encoded data removed]",
      "text/plain": [
       "<Figure size 648x360 with 6 Axes>"
      ]
     },
     "metadata": {
      "needs_background": "light"
     },
     "output_type": "display_data"
    }
   ],
   "source": [
    "log_ret = np.log(data/data.shift(1))\n",
    "log_ret.hist(bins=100,figsize=(9,5))\n",
    "plt.tight_layout()"
   ]
  },
  {
   "cell_type": "code",
   "execution_count": 5,
   "id": "342a461a-10f5-49e5-96e8-4308a761587c",
   "metadata": {},
   "outputs": [
    {
     "data": {
      "text/plain": [
       "RELIANCE.NS    0.269170\n",
       "AMZN           0.373145\n",
       "AAPL           0.284951\n",
       "INFY.NS        0.212878\n",
       "TSLA           0.496539\n",
       "dtype: float64"
      ]
     },
     "execution_count": 5,
     "metadata": {},
     "output_type": "execute_result"
    }
   ],
   "source": [
    "log_ret.mean()*252"
   ]
  },
  {
   "cell_type": "code",
   "execution_count": 6,
   "id": "a946e333-6bf7-47f5-bedf-64d9a30c6886",
   "metadata": {},
   "outputs": [
    {
     "data": {
      "text/html": [
       "<div>\n",
       "<style scoped>\n",
       "    .dataframe tbody tr th:only-of-type {\n",
       "        vertical-align: middle;\n",
       "    }\n",
       "\n",
       "    .dataframe tbody tr th {\n",
       "        vertical-align: top;\n",
       "    }\n",
       "\n",
       "    .dataframe thead th {\n",
       "        text-align: right;\n",
       "    }\n",
       "</style>\n",
       "<table border=\"1\" class=\"dataframe\">\n",
       "  <thead>\n",
       "    <tr style=\"text-align: right;\">\n",
       "      <th></th>\n",
       "      <th>RELIANCE.NS</th>\n",
       "      <th>AMZN</th>\n",
       "      <th>AAPL</th>\n",
       "      <th>INFY.NS</th>\n",
       "      <th>TSLA</th>\n",
       "    </tr>\n",
       "  </thead>\n",
       "  <tbody>\n",
       "    <tr>\n",
       "      <th>RELIANCE.NS</th>\n",
       "      <td>0.089907</td>\n",
       "      <td>0.008156</td>\n",
       "      <td>0.011595</td>\n",
       "      <td>0.020434</td>\n",
       "      <td>0.018365</td>\n",
       "    </tr>\n",
       "    <tr>\n",
       "      <th>AMZN</th>\n",
       "      <td>0.008156</td>\n",
       "      <td>0.093933</td>\n",
       "      <td>0.049550</td>\n",
       "      <td>0.009180</td>\n",
       "      <td>0.059398</td>\n",
       "    </tr>\n",
       "    <tr>\n",
       "      <th>AAPL</th>\n",
       "      <td>0.011595</td>\n",
       "      <td>0.049550</td>\n",
       "      <td>0.087780</td>\n",
       "      <td>0.010987</td>\n",
       "      <td>0.064571</td>\n",
       "    </tr>\n",
       "    <tr>\n",
       "      <th>INFY.NS</th>\n",
       "      <td>0.020434</td>\n",
       "      <td>0.009180</td>\n",
       "      <td>0.010987</td>\n",
       "      <td>0.077058</td>\n",
       "      <td>0.018579</td>\n",
       "    </tr>\n",
       "    <tr>\n",
       "      <th>TSLA</th>\n",
       "      <td>0.018365</td>\n",
       "      <td>0.059398</td>\n",
       "      <td>0.064571</td>\n",
       "      <td>0.018579</td>\n",
       "      <td>0.313848</td>\n",
       "    </tr>\n",
       "  </tbody>\n",
       "</table>\n",
       "</div>"
      ],
      "text/plain": [
       "             RELIANCE.NS      AMZN      AAPL   INFY.NS      TSLA\n",
       "RELIANCE.NS     0.089907  0.008156  0.011595  0.020434  0.018365\n",
       "AMZN            0.008156  0.093933  0.049550  0.009180  0.059398\n",
       "AAPL            0.011595  0.049550  0.087780  0.010987  0.064571\n",
       "INFY.NS         0.020434  0.009180  0.010987  0.077058  0.018579\n",
       "TSLA            0.018365  0.059398  0.064571  0.018579  0.313848"
      ]
     },
     "execution_count": 6,
     "metadata": {},
     "output_type": "execute_result"
    }
   ],
   "source": [
    "log_ret.cov()*252"
   ]
  },
  {
   "cell_type": "code",
   "execution_count": 7,
   "id": "3cca7804-db1d-4902-b1ff-258d21302305",
   "metadata": {},
   "outputs": [
    {
     "data": {
      "text/html": [
       "<div>\n",
       "<style scoped>\n",
       "    .dataframe tbody tr th:only-of-type {\n",
       "        vertical-align: middle;\n",
       "    }\n",
       "\n",
       "    .dataframe tbody tr th {\n",
       "        vertical-align: top;\n",
       "    }\n",
       "\n",
       "    .dataframe thead th {\n",
       "        text-align: right;\n",
       "    }\n",
       "</style>\n",
       "<table border=\"1\" class=\"dataframe\">\n",
       "  <thead>\n",
       "    <tr style=\"text-align: right;\">\n",
       "      <th></th>\n",
       "      <th>RELIANCE.NS</th>\n",
       "      <th>AMZN</th>\n",
       "      <th>AAPL</th>\n",
       "      <th>INFY.NS</th>\n",
       "      <th>TSLA</th>\n",
       "    </tr>\n",
       "  </thead>\n",
       "  <tbody>\n",
       "    <tr>\n",
       "      <th>RELIANCE.NS</th>\n",
       "      <td>1.000000</td>\n",
       "      <td>0.088756</td>\n",
       "      <td>0.130524</td>\n",
       "      <td>0.245502</td>\n",
       "      <td>0.109330</td>\n",
       "    </tr>\n",
       "    <tr>\n",
       "      <th>AMZN</th>\n",
       "      <td>0.088756</td>\n",
       "      <td>1.000000</td>\n",
       "      <td>0.545679</td>\n",
       "      <td>0.107902</td>\n",
       "      <td>0.345941</td>\n",
       "    </tr>\n",
       "    <tr>\n",
       "      <th>AAPL</th>\n",
       "      <td>0.130524</td>\n",
       "      <td>0.545679</td>\n",
       "      <td>1.000000</td>\n",
       "      <td>0.133585</td>\n",
       "      <td>0.389029</td>\n",
       "    </tr>\n",
       "    <tr>\n",
       "      <th>INFY.NS</th>\n",
       "      <td>0.245502</td>\n",
       "      <td>0.107902</td>\n",
       "      <td>0.133585</td>\n",
       "      <td>1.000000</td>\n",
       "      <td>0.119468</td>\n",
       "    </tr>\n",
       "    <tr>\n",
       "      <th>TSLA</th>\n",
       "      <td>0.109330</td>\n",
       "      <td>0.345941</td>\n",
       "      <td>0.389029</td>\n",
       "      <td>0.119468</td>\n",
       "      <td>1.000000</td>\n",
       "    </tr>\n",
       "  </tbody>\n",
       "</table>\n",
       "</div>"
      ],
      "text/plain": [
       "             RELIANCE.NS      AMZN      AAPL   INFY.NS      TSLA\n",
       "RELIANCE.NS     1.000000  0.088756  0.130524  0.245502  0.109330\n",
       "AMZN            0.088756  1.000000  0.545679  0.107902  0.345941\n",
       "AAPL            0.130524  0.545679  1.000000  0.133585  0.389029\n",
       "INFY.NS         0.245502  0.107902  0.133585  1.000000  0.119468\n",
       "TSLA            0.109330  0.345941  0.389029  0.119468  1.000000"
      ]
     },
     "execution_count": 7,
     "metadata": {},
     "output_type": "execute_result"
    }
   ],
   "source": [
    "log_ret.corr()"
   ]
  },
  {
   "cell_type": "markdown",
   "id": "b372c1c7-855c-414b-9f04-c6987c78af0f",
   "metadata": {},
   "source": [
    "** FIND EFFICIENT FRONTIER AND OPTIMAL WEIGHTS**"
   ]
  },
  {
   "cell_type": "code",
   "execution_count": 8,
   "id": "85af01b8-b948-49ff-921f-6aef5ee4f49a",
   "metadata": {},
   "outputs": [],
   "source": [
    "from scipy.optimize import minimize"
   ]
  },
  {
   "cell_type": "code",
   "execution_count": 9,
   "id": "bceb66bc-457e-4c33-9c28-5676f88c33a4",
   "metadata": {},
   "outputs": [],
   "source": [
    "def get_ret_vol_sr(weights):\n",
    "    \"\"\"\n",
    "    Takes in weights, returns array or return,volatility, sharpe ratio\n",
    "    \"\"\"\n",
    "    rf=0.05\n",
    "    weights = np.array(weights)\n",
    "    ret = np.sum(log_ret.mean() * weights) * 252\n",
    "    vol = np.sqrt(np.dot(weights.T, np.dot(log_ret.cov() * 252, weights)))\n",
    "    sr = (ret-rf)/vol\n",
    "    return np.array([ret,vol,sr])"
   ]
  },
  {
   "cell_type": "code",
   "execution_count": 10,
   "id": "24f64f37-4f92-414f-b01a-c7e46db46bc6",
   "metadata": {},
   "outputs": [],
   "source": [
    "#Here Optimization works as a minimization function, since we actually want to maximize the Sharpe Ratio, \n",
    "#we will need to turn it negative so we can minimize the negative sharpe \n",
    "#(same as maximizing the postive sharpe)\n",
    "def neg_sharpe(weights):\n",
    "    return  get_ret_vol_sr(weights)[2] * -1\n",
    "\n",
    "\n",
    "#constraint \n",
    "def check_sum(weights):\n",
    "    '''\n",
    "    Returns 0 if sum of weights is 1.0\n",
    "    '''\n",
    "    return np.sum(weights) - 1\n",
    "\n",
    "# By convention of minimize function it should be a function that returns zero for conditions\n",
    "cons = ({'type':'eq','fun': check_sum})\n",
    "\n",
    "\n",
    "# 0 to 1 bounds for each weight if long only portfolio; -1 to 1 bounds if long+short portfolio\n",
    "bounds = ((-1, 1), (-1, 1), (-1, 1), (-1, 1), (-1, 1))\n",
    "\n",
    "\n",
    "# Initial Guess (equal distribution)\n",
    "init_guess = [0.2]*5"
   ]
  },
  {
   "cell_type": "code",
   "execution_count": 11,
   "id": "15a0e65d-be48-4e03-be75-362079a4b049",
   "metadata": {},
   "outputs": [],
   "source": [
    "opt_results = minimize(neg_sharpe,init_guess,method='SLSQP',bounds=bounds,constraints=cons)"
   ]
  },
  {
   "cell_type": "code",
   "execution_count": 12,
   "id": "3616c173-5728-4a87-87a3-f08f983e1da3",
   "metadata": {},
   "outputs": [
    {
     "data": {
      "text/plain": [
       "     fun: -1.3371090105850199\n",
       "     jac: array([-0.24268965, -0.241945  , -0.24270838, -0.24254216, -0.24441692])\n",
       " message: 'Optimization terminated successfully'\n",
       "    nfev: 44\n",
       "     nit: 7\n",
       "    njev: 7\n",
       "  status: 0\n",
       " success: True\n",
       "       x: array([0.27178254, 0.39377644, 0.05368836, 0.17333031, 0.10742236])"
      ]
     },
     "execution_count": 12,
     "metadata": {},
     "output_type": "execute_result"
    }
   ],
   "source": [
    "opt_results"
   ]
  },
  {
   "cell_type": "markdown",
   "id": "2002f58e-422c-4574-98bc-b020a9e38f03",
   "metadata": {},
   "source": [
    "**Optimal Allocation for our Portfolio"
   ]
  },
  {
   "cell_type": "code",
   "execution_count": 13,
   "id": "2ab161a0-03d7-4cf3-84e9-7be69e82a943",
   "metadata": {},
   "outputs": [
    {
     "data": {
      "text/plain": [
       "array([0.27178254, 0.39377644, 0.05368836, 0.17333031, 0.10742236])"
      ]
     },
     "execution_count": 13,
     "metadata": {},
     "output_type": "execute_result"
    }
   ],
   "source": [
    "opt_results.x"
   ]
  },
  {
   "cell_type": "markdown",
   "id": "954bb5b1-1bf9-4840-ba94-9a493f670b3e",
   "metadata": {},
   "source": [
    "** Annualized return, Volatility and Sharpe Ratio of our Portfolio"
   ]
  },
  {
   "cell_type": "code",
   "execution_count": 14,
   "id": "6cd53680-cc57-4e18-a23b-5ea7cadc7aec",
   "metadata": {},
   "outputs": [
    {
     "data": {
      "text/plain": [
       "array([0.32562732, 0.20613676, 1.33710901])"
      ]
     },
     "execution_count": 14,
     "metadata": {},
     "output_type": "execute_result"
    }
   ],
   "source": [
    "get_ret_vol_sr(opt_results.x)"
   ]
  },
  {
   "cell_type": "code",
   "execution_count": 15,
   "id": "b9f634f6-765b-4f51-806f-42507ec4d734",
   "metadata": {
    "tags": []
   },
   "outputs": [
    {
     "name": "stdout",
     "output_type": "stream",
     "text": [
      "return = 32.56 %\n",
      "volatility = 20.61 %\n",
      "sharpe ratio = 1.3371\n"
     ]
    }
   ],
   "source": [
    "get_ret_vol_sr(opt_results.x)\n",
    "return_ = get_ret_vol_sr(opt_results.x)[0]\n",
    "volatility_ = get_ret_vol_sr(opt_results.x)[1]\n",
    "sharperatio_ = get_ret_vol_sr(opt_results.x)[2]\n",
    "print('return =', round(return_ * 100, 2), '%')\n",
    "print('volatility =', round(volatility_ * 100, 2), '%')\n",
    "print('sharpe ratio =', round(sharperatio_, 4))"
   ]
  },
  {
   "cell_type": "markdown",
   "id": "aa7e19f1-455e-4c93-a3f7-8649a8442d69",
   "metadata": {
    "jp-MarkdownHeadingCollapsed": true,
    "tags": []
   },
   "source": [
    "**Plotting Efficient frontier line**\n",
    "[Previously we minimized negetive sharpe ratio(so as to maximize sharpe ratio)\n",
    "Now, we will minimize Volatility]"
   ]
  },
  {
   "cell_type": "code",
   "execution_count": 16,
   "id": "c4572d61-15e5-45d2-abcd-3d8eff48561a",
   "metadata": {},
   "outputs": [],
   "source": [
    "#To minimize volatility-\n",
    "def minimize_volatility(weights):\n",
    "    return  get_ret_vol_sr(weights)[1]"
   ]
  },
  {
   "cell_type": "code",
   "execution_count": 17,
   "id": "fc0e53fa-2b7a-4cd5-9435-b2d394a11f88",
   "metadata": {},
   "outputs": [],
   "source": [
    "# Our returns go from 0 to somewhere along 0.3\n",
    "# Create a linspace number of points to calculate x on since our efficient frontier is a line so \n",
    "# we need many points to plot the line and also we would need a for loop for calc each point\n",
    "frontier_y = np.linspace(return_-0.1 , return_+0.1 , 100)"
   ]
  },
  {
   "cell_type": "code",
   "execution_count": 18,
   "id": "3c717a12-cf70-4adb-af84-5b847321496b",
   "metadata": {},
   "outputs": [],
   "source": [
    "frontier_volatility = [] #to store the frontier line \n",
    "\n",
    "for possible_return in frontier_y:\n",
    "    # function for return\n",
    "    cons = ({'type':'eq','fun': check_sum},\n",
    "            {'type':'eq','fun': lambda w: get_ret_vol_sr(w)[0] - possible_return})\n",
    "    \n",
    "    result = minimize(minimize_volatility,init_guess,method='SLSQP',bounds=bounds,constraints=cons)\n",
    "    \n",
    "    frontier_volatility.append(result['fun'])"
   ]
  },
  {
   "cell_type": "code",
   "execution_count": 19,
   "id": "799a6201-92f9-4c90-bcef-58a404e1d180",
   "metadata": {},
   "outputs": [],
   "source": [
    "np.random.seed(101)\n",
    "\n",
    "num_ports = 2000\n",
    "all_weights = np.zeros((num_ports,len(data.columns)))\n",
    "ret_arr = np.zeros(num_ports)\n",
    "vol_arr = np.zeros(num_ports)\n",
    "sharpe_arr = np.zeros(num_ports)\n",
    "rf = 0.05\n",
    "\n",
    "for ind in range(num_ports):\n",
    "    weights = np.array(np.random.random(len(data.columns)))\n",
    "    weights /=np.sum(weights)\n",
    "    all_weights[ind,:] = weights\n",
    "    \n",
    "    ret_arr[ind] = np.sum((log_ret.mean() * weights) * 252)\n",
    "    \n",
    "    vol_arr[ind] = np.sqrt(np.dot(weights.T , np.dot(log_ret.cov()*252 , weights)))\n",
    "    \n",
    "    sharpe_arr[ind] = (ret_arr[ind] - rf)/vol_arr[ind]\n"
   ]
  },
  {
   "cell_type": "code",
   "execution_count": 20,
   "id": "b0d08461-f0c7-4431-8b46-22ac8bd9997b",
   "metadata": {},
   "outputs": [
    {
     "data": {
      "text/plain": [
       "Text(0.5, 1.0, 'Efficient Frontier line for our portfolio')"
      ]
     },
     "execution_count": 20,
     "metadata": {},
     "output_type": "execute_result"
    },
    {
     "data": {
      "image/png": "[encoded data removed]",
      "text/plain": [
       "<Figure size 864x576 with 2 Axes>"
      ]
     },
     "metadata": {
      "needs_background": "light"
     },
     "output_type": "display_data"
    }
   ],
   "source": [
    "plt.figure(figsize=(12,8))\n",
    "plt.scatter(vol_arr,ret_arr,c=sharpe_arr,cmap='plasma')\n",
    "plt.colorbar(label='Sharpe Ratio')\n",
    "plt.xlabel('Volatility')\n",
    "plt.ylabel('Return')\n",
    "plt.xlim([0.15,0.4])\n",
    "plt.ylim([0.2,0.5])\n",
    "\n",
    "\n",
    "# Add frontier line\n",
    "plt.plot(frontier_volatility,frontier_y,'g--',linewidth=3)\n",
    "plt.title('Efficient Frontier line for our portfolio')"
   ]
  },
  {
   "cell_type": "code",
   "execution_count": null,
   "id": "46cad3db-ea8c-477c-82c5-7ae558379e67",
   "metadata": {},
   "outputs": [],
   "source": []
  }
 ],
 "metadata": {
  "kernelspec": {
   "display_name": "Python 3 (ipykernel)",
   "language": "python",
   "name": "python3"
  },
  "language_info": {
   "codemirror_mode": {
    "name": "ipython",
    "version": 3
   },
   "file_extension": ".py",
   "mimetype": "text/x-python",
   "name": "python",
   "nbconvert_exporter": "python",
   "pygments_lexer": "ipython3",
   "version": "3.8.12"
  }
 },
 "nbformat": 4,
 "nbformat_minor": 5
}
