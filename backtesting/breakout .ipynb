{
 "cells": [
  {
   "cell_type": "code",
   "execution_count": 1,
   "id": "c7c01582-bed8-4492-afd7-06fd87b86e12",
   "metadata": {},
   "outputs": [],
   "source": [
    "import numpy as np\n",
    "import pandas as pd\n",
    "import yfinance as yf\n",
    "import copy\n",
    "import time\n"
   ]
  },
  {
   "cell_type": "code",
   "execution_count": 2,
   "id": "07a2ce2a-f71e-46c6-bdad-a3b9d449cc71",
   "metadata": {
    "tags": []
   },
   "outputs": [],
   "source": [
    "def ATR(DF,n):\n",
    "    \"function to calculate True Range and Average True Range\"\n",
    "    df = DF.copy()\n",
    "    df['H-L']=abs(df['High']-df['Low'])\n",
    "    df['H-PC']=abs(df['High']-df['Close'].shift(1))\n",
    "    df['L-PC']=abs(df['Low']-df['Close'].shift(1))\n",
    "    df['TR']=df[['H-L','H-PC','L-PC']].max(axis=1,skipna=False)\n",
    "    df['ATR'] = df['TR'].rolling(n).mean()\n",
    "    #df['ATR'] = df['TR'].ewm(span=n,adjust=False,min_periods=n).mean()\n",
    "    df2 = df.drop(['H-L','H-PC','L-PC'],axis=1)\n",
    "    return df2['ATR']\n",
    "\n",
    "def CAGR(DF):\n",
    "    \"function to calculate the Cumulative Annual Growth Rate of a trading strategy\"\n",
    "    df = DF.copy()\n",
    "    df[\"cum_return\"] = (1 + df[\"ret\"]).cumprod()\n",
    "    n = len(df)/(252*78)\n",
    "    CAGR = (df[\"cum_return\"].tolist()[-1])**(1/n) - 1\n",
    "    return CAGR\n",
    "\n",
    "def volatility(DF):\n",
    "    \"function to calculate annualized volatility of a trading strategy\"\n",
    "    df = DF.copy()\n",
    "    vol = df[\"ret\"].std() * np.sqrt(252*78)\n",
    "    return vol\n",
    "\n",
    "def sharpe(DF,rf):\n",
    "    \"function to calculate sharpe ratio ; rf is the risk free rate\"\n",
    "    df = DF.copy()\n",
    "    sr = (CAGR(df) - rf)/volatility(df)\n",
    "    return sr\n",
    "    \n",
    "def max_dd(DF):\n",
    "    \"function to calculate max drawdown\"\n",
    "    df = DF.copy()\n",
    "    df[\"cum_return\"] = (1 + df[\"ret\"]).cumprod()\n",
    "    df[\"cum_roll_max\"] = df[\"cum_return\"].cummax()\n",
    "    df[\"drawdown\"] = df[\"cum_roll_max\"] - df[\"cum_return\"]\n",
    "    df[\"drawdown_pct\"] = df[\"drawdown\"]/df[\"cum_roll_max\"]\n",
    "    max_dd = df[\"drawdown_pct\"].max()\n",
    "    return max_dd"
   ]
  },
  {
   "cell_type": "code",
   "execution_count": 3,
   "id": "7d610a38-1117-42b1-892b-446a2654c902",
   "metadata": {},
   "outputs": [
    {
     "name": "stdout",
     "output_type": "stream",
     "text": [
      "[*********************100%***********************]  1 of 1 completed\n",
      "[*********************100%***********************]  1 of 1 completed\n",
      "[*********************100%***********************]  1 of 1 completed\n",
      "[*********************100%***********************]  1 of 1 completed\n",
      "[*********************100%***********************]  1 of 1 completed\n",
      "[*********************100%***********************]  1 of 1 completed\n",
      "[*********************100%***********************]  1 of 1 completed\n",
      "[*********************100%***********************]  1 of 1 completed\n",
      "[*********************100%***********************]  1 of 1 completed\n",
      "[*********************100%***********************]  1 of 1 completed\n"
     ]
    }
   ],
   "source": [
    "tickers = [\"MSFT\",\"AAPL\",\"FB\",\"AMZN\",\"INTC\", \"CSCO\",\"VZ\",\"IBM\",\"TSLA\",\"AMD\"]\n",
    "ohlc_intraday = {}\n",
    "\n",
    "# looping over tickers and storing OHLCV dataframe in dictionary\n",
    "for ticker in tickers:\n",
    "    temp = yf.download(ticker,period='1mo',interval='5m')\n",
    "    temp.dropna(how=\"any\",inplace=True)\n",
    "    ohlc_intraday[ticker] = temp\n",
    "    \n",
    "tickers = ohlc_intraday.keys()"
   ]
  },
  {
   "cell_type": "markdown",
   "id": "4401ef7a-bb62-45a2-bab3-fe38a603d04c",
   "metadata": {},
   "source": [
    "**Backtesting**"
   ]
  },
  {
   "cell_type": "code",
   "execution_count": 4,
   "id": "09e63595-f8d5-49c1-93d9-0061c29d4c38",
   "metadata": {},
   "outputs": [
    {
     "name": "stdout",
     "output_type": "stream",
     "text": [
      "calculating ATR and rolling max price for  AMD\n"
     ]
    }
   ],
   "source": [
    "# calculating ATR and rolling max price for each stock and consolidating this info by stock in a separate dataframe\n",
    "ohlc_dict = copy.deepcopy(ohlc_intraday)\n",
    "tickers_signal = {} ##dictionary for storing signal- buy/sell/nosignal\n",
    "tickers_ret = {}  #dictionary for storing list of returns\n",
    "print(\"calculating ATR and rolling max price for \",ticker)\n",
    "for ticker in tickers:\n",
    "    ohlc_dict[ticker][\"ATR\"] = ATR(ohlc_dict[ticker],20)\n",
    "    ohlc_dict[ticker][\"roll_max_cp\"] = ohlc_dict[ticker][\"High\"].rolling(20).max()\n",
    "    ohlc_dict[ticker][\"roll_min_cp\"] = ohlc_dict[ticker][\"Low\"].rolling(20).min()\n",
    "    ohlc_dict[ticker][\"roll_max_vol\"] = ohlc_dict[ticker][\"Volume\"].rolling(20).max()\n",
    "    ohlc_dict[ticker].dropna(inplace=True)\n",
    "    tickers_signal[ticker] = \"\"\n",
    "    tickers_ret[ticker] = [0]#storing returns after every signal-- for every stock as a list\n",
    "\n"
   ]
  },
  {
   "cell_type": "code",
   "execution_count": 5,
   "id": "eef19d2c-9fd4-4f65-953f-974c29a9d3e8",
   "metadata": {},
   "outputs": [
    {
     "name": "stdout",
     "output_type": "stream",
     "text": [
      "calculating returns for  MSFT\n",
      "calculating returns for  AAPL\n",
      "calculating returns for  FB\n",
      "calculating returns for  AMZN\n",
      "calculating returns for  INTC\n",
      "calculating returns for  CSCO\n",
      "calculating returns for  VZ\n",
      "calculating returns for  IBM\n",
      "calculating returns for  TSLA\n",
      "calculating returns for  AMD\n"
     ]
    }
   ],
   "source": [
    "\n",
    "# identifying signals and calculating daily return (stop loss factored in)\n",
    "for ticker in tickers:\n",
    "    print(\"calculating returns for \",ticker)\n",
    "    for i in range(1,len(ohlc_dict[ticker])):\n",
    "        if tickers_signal[ticker] == \"\":\n",
    "            tickers_ret[ticker].append(0)\n",
    "            if ohlc_dict[ticker][\"High\"][i]>=ohlc_dict[ticker][\"roll_max_cp\"][i] and \\\n",
    "               ohlc_dict[ticker][\"Volume\"][i]>1.5*ohlc_dict[ticker][\"roll_max_vol\"][i-1]:\n",
    "                tickers_signal[ticker] = \"Buy\"\n",
    "            elif ohlc_dict[ticker][\"Low\"][i]<=ohlc_dict[ticker][\"roll_min_cp\"][i] and \\\n",
    "               ohlc_dict[ticker][\"Volume\"][i]>1.5*ohlc_dict[ticker][\"roll_max_vol\"][i-1]:\n",
    "                tickers_signal[ticker] = \"Sell\"\n",
    "        \n",
    "        elif tickers_signal[ticker] == \"Buy\":\n",
    "            if ohlc_dict[ticker][\"Low\"][i]<ohlc_dict[ticker][\"Close\"][i-1] - ohlc_dict[ticker][\"ATR\"][i-1]:\n",
    "                tickers_signal[ticker] = \"\"        #closing the trade\n",
    "                tickers_ret[ticker].append(((ohlc_dict[ticker][\"Close\"][i-1] - ohlc_dict[ticker][\"ATR\"][i-1])/ohlc_dict[ticker][\"Close\"][i-1])-1) #calc return of the trade\n",
    "            elif ohlc_dict[ticker][\"Low\"][i]<=ohlc_dict[ticker][\"roll_min_cp\"][i] and \\\n",
    "               ohlc_dict[ticker][\"Volume\"][i]>1.5*ohlc_dict[ticker][\"roll_max_vol\"][i-1]:\n",
    "                tickers_signal[ticker] = \"Sell\"\n",
    "                tickers_ret[ticker].append((ohlc_dict[ticker][\"Close\"][i]/ohlc_dict[ticker][\"Close\"][i-1])-1)\n",
    "            else:\n",
    "                tickers_ret[ticker].append((ohlc_dict[ticker][\"Close\"][i]/ohlc_dict[ticker][\"Close\"][i-1])-1)\n",
    "                \n",
    "        elif tickers_signal[ticker] == \"Sell\":\n",
    "            if ohlc_dict[ticker][\"High\"][i]>ohlc_dict[ticker][\"Close\"][i-1] + ohlc_dict[ticker][\"ATR\"][i-1]:\n",
    "                tickers_signal[ticker] = \"\"\n",
    "                tickers_ret[ticker].append((ohlc_dict[ticker][\"Close\"][i-1]/(ohlc_dict[ticker][\"Close\"][i-1] + ohlc_dict[ticker][\"ATR\"][i-1]))-1)\n",
    "            elif ohlc_dict[ticker][\"High\"][i]>=ohlc_dict[ticker][\"roll_max_cp\"][i] and \\\n",
    "               ohlc_dict[ticker][\"Volume\"][i]>1.5*ohlc_dict[ticker][\"roll_max_vol\"][i-1]:\n",
    "                tickers_signal[ticker] = \"Buy\"\n",
    "                tickers_ret[ticker].append((ohlc_dict[ticker][\"Close\"][i-1]/ohlc_dict[ticker][\"Close\"][i])-1)\n",
    "            else:\n",
    "                tickers_ret[ticker].append((ohlc_dict[ticker][\"Close\"][i-1]/ohlc_dict[ticker][\"Close\"][i])-1)\n",
    "                \n",
    "    ohlc_dict[ticker][\"ret\"] = np.array(tickers_ret[ticker])\n"
   ]
  },
  {
   "cell_type": "code",
   "execution_count": 6,
   "id": "bd248861-9567-4cd5-9492-c1555ce9359e",
   "metadata": {},
   "outputs": [
    {
     "name": "stdout",
     "output_type": "stream",
     "text": [
      "Strategy CAGR =  0.09847112089538146\n",
      "Strategy Sharpe ratio =  2.193116946119501\n",
      "Strategy Max DD =  0.008514650246510767\n"
     ]
    }
   ],
   "source": [
    "# calculating overall strategy's KPIs\n",
    "strategy_df = pd.DataFrame()\n",
    "for ticker in tickers:\n",
    "    strategy_df[ticker] = ohlc_dict[ticker][\"ret\"]\n",
    "strategy_df[\"ret\"] = strategy_df.mean(axis=1)#since capital allocation for each stock is equal we take mean- if unequal create own strategy\n",
    "\n",
    "print(\"Strategy CAGR = \",CAGR(strategy_df))\n",
    "print(\"Strategy Sharpe ratio = \",sharpe(strategy_df,0.025))\n",
    "print(\"Strategy Max DD = \",max_dd(strategy_df))"
   ]
  },
  {
   "cell_type": "code",
   "execution_count": 7,
   "id": "f62c84df-575b-4440-bf4c-bbe917342131",
   "metadata": {},
   "outputs": [
    {
     "data": {
      "text/plain": [
       "<AxesSubplot:xlabel='Datetime'>"
      ]
     },
     "execution_count": 7,
     "metadata": {},
     "output_type": "execute_result"
    },
    {
     "data": {
      "image/png": "[encoded data removed]",
      "text/plain": [
       "<Figure size 432x288 with 1 Axes>"
      ]
     },
     "metadata": {
      "needs_background": "light"
     },
     "output_type": "display_data"
    }
   ],
   "source": [
    "# vizualization of strategy return\n",
    "(1+strategy_df[\"ret\"]).cumprod().plot()"
   ]
  },
  {
   "cell_type": "code",
   "execution_count": 8,
   "id": "5a5f88d5-4634-457c-8aac-dd0e171a03ab",
   "metadata": {},
   "outputs": [
    {
     "name": "stdout",
     "output_type": "stream",
     "text": [
      "calculating KPIs for  MSFT\n",
      "calculating KPIs for  AAPL\n",
      "calculating KPIs for  FB\n",
      "calculating KPIs for  AMZN\n",
      "calculating KPIs for  INTC\n",
      "calculating KPIs for  CSCO\n",
      "calculating KPIs for  VZ\n",
      "calculating KPIs for  IBM\n",
      "calculating KPIs for  TSLA\n",
      "calculating KPIs for  AMD\n"
     ]
    },
    {
     "data": {
      "text/html": [
       "<div>\n",
       "<style scoped>\n",
       "    .dataframe tbody tr th:only-of-type {\n",
       "        vertical-align: middle;\n",
       "    }\n",
       "\n",
       "    .dataframe tbody tr th {\n",
       "        vertical-align: top;\n",
       "    }\n",
       "\n",
       "    .dataframe thead th {\n",
       "        text-align: right;\n",
       "    }\n",
       "</style>\n",
       "<table border=\"1\" class=\"dataframe\">\n",
       "  <thead>\n",
       "    <tr style=\"text-align: right;\">\n",
       "      <th></th>\n",
       "      <th>Return</th>\n",
       "      <th>Sharpe Ratio</th>\n",
       "      <th>Max Drawdown</th>\n",
       "    </tr>\n",
       "  </thead>\n",
       "  <tbody>\n",
       "    <tr>\n",
       "      <th>MSFT</th>\n",
       "      <td>0.159637</td>\n",
       "      <td>1.947932</td>\n",
       "      <td>0.014563</td>\n",
       "    </tr>\n",
       "    <tr>\n",
       "      <th>AAPL</th>\n",
       "      <td>-0.165340</td>\n",
       "      <td>-4.498372</td>\n",
       "      <td>0.014450</td>\n",
       "    </tr>\n",
       "    <tr>\n",
       "      <th>FB</th>\n",
       "      <td>0.244283</td>\n",
       "      <td>2.051259</td>\n",
       "      <td>0.016298</td>\n",
       "    </tr>\n",
       "    <tr>\n",
       "      <th>AMZN</th>\n",
       "      <td>-0.035307</td>\n",
       "      <td>-1.015028</td>\n",
       "      <td>0.016994</td>\n",
       "    </tr>\n",
       "    <tr>\n",
       "      <th>INTC</th>\n",
       "      <td>0.057161</td>\n",
       "      <td>0.452970</td>\n",
       "      <td>0.017912</td>\n",
       "    </tr>\n",
       "    <tr>\n",
       "      <th>CSCO</th>\n",
       "      <td>0.322421</td>\n",
       "      <td>3.306698</td>\n",
       "      <td>0.013048</td>\n",
       "    </tr>\n",
       "    <tr>\n",
       "      <th>VZ</th>\n",
       "      <td>0.427482</td>\n",
       "      <td>9.161250</td>\n",
       "      <td>0.008402</td>\n",
       "    </tr>\n",
       "    <tr>\n",
       "      <th>IBM</th>\n",
       "      <td>0.193370</td>\n",
       "      <td>2.674527</td>\n",
       "      <td>0.009050</td>\n",
       "    </tr>\n",
       "    <tr>\n",
       "      <th>TSLA</th>\n",
       "      <td>-0.300221</td>\n",
       "      <td>-1.869106</td>\n",
       "      <td>0.051647</td>\n",
       "    </tr>\n",
       "    <tr>\n",
       "      <th>AMD</th>\n",
       "      <td>0.270662</td>\n",
       "      <td>1.803769</td>\n",
       "      <td>0.036508</td>\n",
       "    </tr>\n",
       "  </tbody>\n",
       "</table>\n",
       "</div>"
      ],
      "text/plain": [
       "        Return  Sharpe Ratio  Max Drawdown\n",
       "MSFT  0.159637      1.947932      0.014563\n",
       "AAPL -0.165340     -4.498372      0.014450\n",
       "FB    0.244283      2.051259      0.016298\n",
       "AMZN -0.035307     -1.015028      0.016994\n",
       "INTC  0.057161      0.452970      0.017912\n",
       "CSCO  0.322421      3.306698      0.013048\n",
       "VZ    0.427482      9.161250      0.008402\n",
       "IBM   0.193370      2.674527      0.009050\n",
       "TSLA -0.300221     -1.869106      0.051647\n",
       "AMD   0.270662      1.803769      0.036508"
      ]
     },
     "execution_count": 8,
     "metadata": {},
     "output_type": "execute_result"
    }
   ],
   "source": [
    "#calculating individual stock's KPIs\n",
    "cagr = {}\n",
    "sharpe_ratios = {}\n",
    "max_drawdown = {}\n",
    "for ticker in tickers:\n",
    "    print(\"calculating KPIs for \",ticker)      \n",
    "    cagr[ticker] =  CAGR(ohlc_dict[ticker])\n",
    "    sharpe_ratios[ticker] =  sharpe(ohlc_dict[ticker],0.025)\n",
    "    max_drawdown[ticker] =  max_dd(ohlc_dict[ticker])\n",
    "\n",
    "KPI_df = pd.DataFrame([cagr,sharpe_ratios,max_drawdown],index=[\"Return\",\"Sharpe Ratio\",\"Max Drawdown\"])      \n",
    "KPI_df.T\n"
   ]
  },
  {
   "cell_type": "code",
   "execution_count": null,
   "id": "e38f80b3-d37f-4921-a7ad-2e0583a74609",
   "metadata": {},
   "outputs": [],
   "source": []
  }
 ],
 "metadata": {
  "kernelspec": {
   "display_name": "Python 3 (ipykernel)",
   "language": "python",
   "name": "python3"
  },
  "language_info": {
   "codemirror_mode": {
    "name": "ipython",
    "version": 3
   },
   "file_extension": ".py",
   "mimetype": "text/x-python",
   "name": "python",
   "nbconvert_exporter": "python",
   "pygments_lexer": "ipython3",
   "version": "3.8.12"
  }
 },
 "nbformat": 4,
 "nbformat_minor": 5
}
